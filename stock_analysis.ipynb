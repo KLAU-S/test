{
 "cells": [
  {
   "cell_type": "code",
   "execution_count": 1,
   "metadata": {},
   "outputs": [],
   "source": [
    "import pandas as pd"
   ]
  },
  {
   "cell_type": "code",
   "execution_count": 2,
   "metadata": {},
   "outputs": [],
   "source": [
    "df1 = pd.read_csv('AAPL.csv')\n",
    "df2 = pd.read_csv('BABA.csv')\n",
    "df3 = pd.read_csv('ENB.csv')"
   ]
  },
  {
   "cell_type": "code",
   "execution_count": 3,
   "metadata": {},
   "outputs": [
    {
     "data": {
      "text/html": [
       "<div>\n",
       "<style scoped>\n",
       "    .dataframe tbody tr th:only-of-type {\n",
       "        vertical-align: middle;\n",
       "    }\n",
       "\n",
       "    .dataframe tbody tr th {\n",
       "        vertical-align: top;\n",
       "    }\n",
       "\n",
       "    .dataframe thead th {\n",
       "        text-align: right;\n",
       "    }\n",
       "</style>\n",
       "<table border=\"1\" class=\"dataframe\">\n",
       "  <thead>\n",
       "    <tr style=\"text-align: right;\">\n",
       "      <th></th>\n",
       "      <th>Date</th>\n",
       "      <th>Open</th>\n",
       "      <th>High</th>\n",
       "      <th>Low</th>\n",
       "      <th>Close</th>\n",
       "      <th>Adj Close</th>\n",
       "      <th>Volume</th>\n",
       "    </tr>\n",
       "  </thead>\n",
       "  <tbody>\n",
       "    <tr>\n",
       "      <th>9904</th>\n",
       "      <td>2020-03-26</td>\n",
       "      <td>246.520004</td>\n",
       "      <td>258.679993</td>\n",
       "      <td>246.360001</td>\n",
       "      <td>258.440002</td>\n",
       "      <td>258.440002</td>\n",
       "      <td>63021800</td>\n",
       "    </tr>\n",
       "    <tr>\n",
       "      <th>9905</th>\n",
       "      <td>2020-03-27</td>\n",
       "      <td>252.750000</td>\n",
       "      <td>255.869995</td>\n",
       "      <td>247.050003</td>\n",
       "      <td>247.740005</td>\n",
       "      <td>247.740005</td>\n",
       "      <td>51054200</td>\n",
       "    </tr>\n",
       "    <tr>\n",
       "      <th>9906</th>\n",
       "      <td>2020-03-30</td>\n",
       "      <td>250.740005</td>\n",
       "      <td>255.520004</td>\n",
       "      <td>249.399994</td>\n",
       "      <td>254.809998</td>\n",
       "      <td>254.809998</td>\n",
       "      <td>41994100</td>\n",
       "    </tr>\n",
       "    <tr>\n",
       "      <th>9907</th>\n",
       "      <td>2020-03-31</td>\n",
       "      <td>255.600006</td>\n",
       "      <td>262.489990</td>\n",
       "      <td>252.000000</td>\n",
       "      <td>254.289993</td>\n",
       "      <td>254.289993</td>\n",
       "      <td>49250500</td>\n",
       "    </tr>\n",
       "    <tr>\n",
       "      <th>9908</th>\n",
       "      <td>2020-04-01</td>\n",
       "      <td>246.500000</td>\n",
       "      <td>248.720001</td>\n",
       "      <td>239.130005</td>\n",
       "      <td>240.910004</td>\n",
       "      <td>240.910004</td>\n",
       "      <td>43956200</td>\n",
       "    </tr>\n",
       "  </tbody>\n",
       "</table>\n",
       "</div>"
      ],
      "text/plain": [
       "            Date        Open        High         Low       Close   Adj Close  \\\n",
       "9904  2020-03-26  246.520004  258.679993  246.360001  258.440002  258.440002   \n",
       "9905  2020-03-27  252.750000  255.869995  247.050003  247.740005  247.740005   \n",
       "9906  2020-03-30  250.740005  255.520004  249.399994  254.809998  254.809998   \n",
       "9907  2020-03-31  255.600006  262.489990  252.000000  254.289993  254.289993   \n",
       "9908  2020-04-01  246.500000  248.720001  239.130005  240.910004  240.910004   \n",
       "\n",
       "        Volume  \n",
       "9904  63021800  \n",
       "9905  51054200  \n",
       "9906  41994100  \n",
       "9907  49250500  \n",
       "9908  43956200  "
      ]
     },
     "execution_count": 3,
     "metadata": {},
     "output_type": "execute_result"
    }
   ],
   "source": [
    "df1.tail()"
   ]
  },
  {
   "cell_type": "code",
   "execution_count": 4,
   "metadata": {},
   "outputs": [
    {
     "data": {
      "text/plain": [
       "[32.618030149898296, 133.65732228319507, 15.583220904359097]"
      ]
     },
     "execution_count": 4,
     "metadata": {},
     "output_type": "execute_result"
    }
   ],
   "source": [
    "#mean of the closing price\n",
    "mean1 = df1['Close'].mean()\n",
    "mean2 = df2['Close'].mean()\n",
    "mean3 = df3['Close'].mean()\n",
    "\n",
    "means = [mean1, mean2, mean3]\n",
    "means\n"
   ]
  },
  {
   "cell_type": "code",
   "execution_count": 5,
   "metadata": {},
   "outputs": [
    {
     "data": {
      "text/plain": [
       "[58.47189929510915, 47.20878476977108, 15.3328378018164]"
      ]
     },
     "execution_count": 5,
     "metadata": {},
     "output_type": "execute_result"
    }
   ],
   "source": [
    "#standard deviation of the closing price\n",
    "std1 = df1['Close'].std()\n",
    "std2 = df2['Close'].std()\n",
    "std3 = df3['Close'].std()\n",
    "\n",
    "stds = [std1, std2, std3]\n",
    "stds"
   ]
  },
  {
   "cell_type": "code",
   "execution_count": 6,
   "metadata": {},
   "outputs": [
    {
     "data": {
      "text/plain": [
       "[1.7926250919015556, 0.3532076205278482, 0.9839325192090002]"
      ]
     },
     "execution_count": 6,
     "metadata": {},
     "output_type": "execute_result"
    }
   ],
   "source": [
    "#finding coefficient of variation\n",
    "cv1 = std1/mean1\n",
    "cv2 = std2/mean2\n",
    "cv3 = std3/mean3\n",
    "\n",
    "cvs = [cv1, cv2, cv3]\n",
    "cvs"
   ]
  },
  {
   "cell_type": "code",
   "execution_count": 7,
   "metadata": {},
   "outputs": [],
   "source": [
    "#save the coefficient of variation for each of the three stocks to a data frame and save it to a csv file called coefficient_of_variation.csv\n",
    "df = pd.DataFrame({'Ticker': ['AAPL', 'BABA', 'ENB'], 'CV': cvs})\n",
    "df.to_csv('coefficient_of_variation.csv', index=False)"
   ]
  },
  {
   "cell_type": "code",
   "execution_count": 8,
   "metadata": {},
   "outputs": [
    {
     "data": {
      "text/html": [
       "<div>\n",
       "<style scoped>\n",
       "    .dataframe tbody tr th:only-of-type {\n",
       "        vertical-align: middle;\n",
       "    }\n",
       "\n",
       "    .dataframe tbody tr th {\n",
       "        vertical-align: top;\n",
       "    }\n",
       "\n",
       "    .dataframe thead th {\n",
       "        text-align: right;\n",
       "    }\n",
       "</style>\n",
       "<table border=\"1\" class=\"dataframe\">\n",
       "  <thead>\n",
       "    <tr style=\"text-align: right;\">\n",
       "      <th></th>\n",
       "      <th>Ticker</th>\n",
       "      <th>CV</th>\n",
       "    </tr>\n",
       "  </thead>\n",
       "  <tbody>\n",
       "    <tr>\n",
       "      <th>0</th>\n",
       "      <td>AAPL</td>\n",
       "      <td>1.792625</td>\n",
       "    </tr>\n",
       "    <tr>\n",
       "      <th>1</th>\n",
       "      <td>BABA</td>\n",
       "      <td>0.353208</td>\n",
       "    </tr>\n",
       "    <tr>\n",
       "      <th>2</th>\n",
       "      <td>ENB</td>\n",
       "      <td>0.983933</td>\n",
       "    </tr>\n",
       "  </tbody>\n",
       "</table>\n",
       "</div>"
      ],
      "text/plain": [
       "  Ticker        CV\n",
       "0   AAPL  1.792625\n",
       "1   BABA  0.353208\n",
       "2    ENB  0.983933"
      ]
     },
     "execution_count": 8,
     "metadata": {},
     "output_type": "execute_result"
    }
   ],
   "source": [
    "#read the csv file named coefficient_of_variation.csv\n",
    "cova = pd.read_csv('coefficient_of_variation.csv')\n",
    "cova\n"
   ]
  },
  {
   "cell_type": "code",
   "execution_count": 9,
   "metadata": {},
   "outputs": [],
   "source": [
    "cova.sort_values(by='CV', ascending=False).head(1).to_csv('maxMin.csv', index=False)\n",
    "cova.sort_values(by='CV', ascending=True).head(1).to_csv('maxMin.csv', mode='a', header=False, index=False)\n",
    "\n",
    "mlv = pd.read_csv('minMax.csv')\n",
    "mlv1 = mlv['Ticker'].tolist()\n",
    "open('maxMin.csv', 'w').close()\n",
    "with open('maxMin.csv', 'w') as f:\n",
    "    for item in mlv1:\n",
    "        f.write(\"%s\\n\" % item)\n",
    "\n"
   ]
  },
  {
   "cell_type": "code",
   "execution_count": 10,
   "metadata": {},
   "outputs": [
    {
     "data": {
      "image/png": "[encoded data removed]",
      "text/plain": [
       "<Figure size 640x480 with 1 Axes>"
      ]
     },
     "metadata": {},
     "output_type": "display_data"
    }
   ],
   "source": [
    "#all cv should be plotted on the same scatter plot\n",
    "import matplotlib.pyplot as plt\n",
    "plt.scatter(cova['Ticker'], cova['CV'])\n",
    "plt.show()"
   ]
  }
 ],
 "metadata": {
  "kernelspec": {
   "display_name": "Python 3.8.10 64-bit",
   "language": "python",
   "name": "python3"
  },
  "language_info": {
   "codemirror_mode": {
    "name": "ipython",
    "version": 3
   },
   "file_extension": ".py",
   "mimetype": "text/x-python",
   "name": "python",
   "nbconvert_exporter": "python",
   "pygments_lexer": "ipython3",
   "version": "3.8.10"
  },
  "orig_nbformat": 4,
  "vscode": {
   "interpreter": {
    "hash": "916dbcbb3f70747c44a77c7bcd40155683ae19c65e1c03b4aa3499c5328201f1"
   }
  }
 },
 "nbformat": 4,
 "nbformat_minor": 2
}
